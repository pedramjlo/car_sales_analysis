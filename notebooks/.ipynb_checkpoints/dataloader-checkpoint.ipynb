{
 "cells": [
  {
   "cell_type": "markdown",
   "id": "9d43812a-52e4-441a-a645-adbb8f4ba55d",
   "metadata": {},
   "source": [
    "Open and read data"
   ]
  },
  {
   "cell_type": "code",
   "execution_count": 2,
   "id": "96d5da66-dfbc-4552-8ea6-995e2ada7fd1",
   "metadata": {},
   "outputs": [
    {
     "name": "stdout",
     "output_type": "stream",
     "text": [
      "Requirement already satisfied: pandas in /opt/anaconda3/lib/python3.12/site-packages (2.2.2)\n",
      "Requirement already satisfied: numpy>=1.26.0 in /opt/anaconda3/lib/python3.12/site-packages (from pandas) (1.26.4)\n",
      "Requirement already satisfied: python-dateutil>=2.8.2 in /opt/anaconda3/lib/python3.12/site-packages (from pandas) (2.9.0.post0)\n",
      "Requirement already satisfied: pytz>=2020.1 in /opt/anaconda3/lib/python3.12/site-packages (from pandas) (2024.1)\n",
      "Requirement already satisfied: tzdata>=2022.7 in /opt/anaconda3/lib/python3.12/site-packages (from pandas) (2023.3)\n",
      "Requirement already satisfied: six>=1.5 in /opt/anaconda3/lib/python3.12/site-packages (from python-dateutil>=2.8.2->pandas) (1.16.0)\n",
      "Note: you may need to restart the kernel to use updated packages.\n"
     ]
    }
   ],
   "source": [
    "%pip install pandas"
   ]
  },
  {
   "cell_type": "code",
   "execution_count": 3,
   "id": "b8dfd1a6-e051-4c4f-9f16-ceaaea57eb7c",
   "metadata": {},
   "outputs": [],
   "source": [
    "import pandas as pd"
   ]
  },
  {
   "cell_type": "code",
   "execution_count": 4,
   "id": "1791e069-e915-4277-a2f9-3657e686e0db",
   "metadata": {},
   "outputs": [],
   "source": [
    "class LoadDataset:\n",
    "    \"\"\" \n",
    "    passing the raw dataset file path as a dependency\n",
    "    \"\"\"\n",
    "    def __init__(self, raw_file_path):\n",
    "        self.raw_file_path = raw_file_path\n",
    "\n",
    "    def read_file(self):\n",
    "        \"\"\"\n",
    "        handling file existence, empty dataset, and parsing errors\n",
    "        \"\"\"\n",
    "        try:\n",
    "            return pd.read_csv(self.raw_file_path, encoding=\"ISO-8859-1\", engine='python')\n",
    "        except FileNotFoundError:\n",
    "            print(\"Error: The file was not found.\")\n",
    "        except pd.errors.EmptyDataError:\n",
    "            print(\"Error: The file is empty.\")\n",
    "        except pd.errors.ParserError:\n",
    "            print(\"Error: The file could not be parsed.\")\n",
    "        "
   ]
  },
  {
   "cell_type": "code",
   "execution_count": 5,
   "id": "0ee01638-9128-488f-9069-bf179d3ee940",
   "metadata": {},
   "outputs": [],
   "source": [
    "class DataCleaner:\n",
    "    \n",
    "    def __init__(self, data):\n",
    "        self.data = data\n",
    "\n",
    "\n",
    "    \"\"\"\n",
    "    since 15% of rows contain null values, \n",
    "    they will be replaced with the mean (float and int value) and the mode (string values) instead of being dropped\n",
    "    \"\"\"\n",
    "    \n",
    "    def imputate_null_values(self):\n",
    "        # Impute missing values with the mean for numerical columns\n",
    "        try:\n",
    "            for column in self.data.select_dtypes(include=['float64', 'int64']).columns:\n",
    "                self.data[column].fillna(self.data[column].mean(), inplace=True)\n",
    "\n",
    "        except Exception as e:\n",
    "            print(\"Failed to replace imputate some numeric values {e}\")\n",
    "        \n",
    "        # Impute missing values with the mode for string (categorical) columns\n",
    "        try:\n",
    "            for column in self.data.select_dtypes(include=['object']).columns:\n",
    "                self.data[column].fillna(self.data[column].mode()[0], inplace=True)\n",
    "        except Exception as e:\n",
    "            print(\"Failed to replace imputate some alphabetic values {e}\")\n",
    "            \n",
    "        return self.data\n",
    "\n",
    "\n",
    "    def remove_duplicates(self):\n",
    "        duplicate_mask = self.data.duplicated(subset=None, keep='first')\n",
    "        duplicate_rows_num = duplicate_mask.sum()\n",
    "        print(f\"Number of duplicate rows found: {duplicate_rows_num}\")\n",
    "        \n",
    "        # Remove duplicate rows\n",
    "        data_cleaned = self.data.drop_duplicates()\n",
    "        \n",
    "        \n",
    "        return data_cleaned\n",
    "\n",
    "    def rename_headers(self):\n",
    "        try:\n",
    "            headers_replacements = {\n",
    "            \"make\":\"Brand\",\n",
    "            \"sellingprice\":\"SellingPrice\",\n",
    "            \"saledate\":\"SaleDate\",\n",
    "            }\n",
    "            self.data.rename(columns=headers_replacements, inplace=True)\n",
    "            \n",
    "            self.data.columns = self.data.columns.str.capitalize()\n",
    "\n",
    "            print(\"renamed headers successfully\")\n",
    "            return self.data\n",
    "\n",
    "        except Exception as e:\n",
    "            print(f\"Failed to rename some header titles: {e}\")\n",
    "\n",
    "    \n",
    "    def capitalise_headers(self):\n",
    "        try:\n",
    "            self.data.columns = self.data.columns.str.capitalize()\n",
    "            print(\"capitalised headers sucessfully\")\n",
    "            return self.data\n",
    "\n",
    "        except Exception as e:\n",
    "            print(f\"Failed to capitalise header titles: {e}\")\n",
    "\n",
    "\n",
    "    def validate_values(self):\n",
    "        data_types = {\n",
    "            \"Year\": \"int64\",\n",
    "            \"Brand\": \"object\",\n",
    "            \"Model\": \"object\",\n",
    "            \"Trim\": \"object\",\n",
    "            \"Transmission\":\"object\",\n",
    "            \"Vin\": \"object\",\n",
    "            \"State\":\"object\",\n",
    "            \"Condition\":\"float64\",\n",
    "            \"Odometer\":\"float64\",\n",
    "            \"Color\":\"object\",\n",
    "            \"Interior\":\"object\",\n",
    "            \"Seller\":\"object\",\n",
    "            \"Mmr\":\"float64\",\n",
    "            \"SellingPrice\": \"float64\",\n",
    "            \"SaleDate\": \"object\"\n",
    "        }\n",
    "        \n",
    "        for column, d_type in data_types.items():\n",
    "            if self.data[column].dtype != d_type:\n",
    "                print(f\"Validation failed for column '{column}'. Expected {d_type}, got {self.data[column].dtype}\")\n",
    "            else:\n",
    "                print(f\"Validation passed for column '{column}'. Expected {d_type}, got {self.data[column].dtype}\")\n",
    "                \n",
    "                \n",
    "    def save_changes(self):\n",
    "            self.data.to_csv('../dataset/cleaned/cleaned_car_sales_data.csv', index=False)\n",
    "            print(\"Cleaned data saved successfully!\")\n",
    "            return self.data\n",
    "        "
   ]
  },
  {
   "cell_type": "markdown",
   "id": "8998c2fa-bfe8-4911-b4b3-5d95ebfc1766",
   "metadata": {},
   "source": [
    "# Instantiating the classes and loading the dataset"
   ]
  },
  {
   "cell_type": "code",
   "execution_count": 7,
   "id": "14aab2e4-686a-4a72-9a72-5e1e4a28af73",
   "metadata": {},
   "outputs": [
    {
     "name": "stdout",
     "output_type": "stream",
     "text": [
      "Index(['year', 'make', 'model', 'trim', 'body', 'transmission', 'vin', 'state',\n",
      "       'condition', 'odometer', 'color', 'interior', 'seller', 'mmr',\n",
      "       'sellingprice', 'saledate'],\n",
      "      dtype='object')\n"
     ]
    }
   ],
   "source": [
    "if __name__ == \"__main__\":\n",
    "    raw_file_path = '../dataset/raw/car_prices.csv'\n",
    "    data_loader = LoadDataset(raw_file_path)\n",
    "    data_content  = data_loader.read_file()\n",
    "\n",
    "    data_cleaner = DataCleaner(data_content)\n",
    "    \n",
    "    \n",
    "    if data_content is not None:\n",
    "        print(data_content.columns)\n",
    "    "
   ]
  },
  {
   "cell_type": "markdown",
   "id": "6306154e-c6ff-4ee1-a6e3-8d36b18c1d6f",
   "metadata": {},
   "source": [
    "# Getting the total number of rows"
   ]
  },
  {
   "cell_type": "code",
   "execution_count": 9,
   "id": "3f13d663-dd8a-41d1-b6b5-afa3ec850d0f",
   "metadata": {},
   "outputs": [
    {
     "name": "stdout",
     "output_type": "stream",
     "text": [
      "558837\n"
     ]
    }
   ],
   "source": [
    "        number_of_rows = data_content.shape[0]\n",
    "        print(number_of_rows)"
   ]
  },
  {
   "cell_type": "markdown",
   "id": "e85e4b97-e06d-41d5-91f9-353793ac1bf6",
   "metadata": {},
   "source": [
    "# Getting the total number of columns"
   ]
  },
  {
   "cell_type": "code",
   "execution_count": 11,
   "id": "80f9b58e-0d7e-4006-82b0-4736318c1d8f",
   "metadata": {},
   "outputs": [
    {
     "name": "stdout",
     "output_type": "stream",
     "text": [
      "16\n"
     ]
    }
   ],
   "source": [
    "            number_of_columns = data_content.shape[1]\n",
    "            print(number_of_columns)"
   ]
  },
  {
   "cell_type": "markdown",
   "id": "ca6a6d93-e591-4c07-9716-a426d6821cfa",
   "metadata": {},
   "source": [
    "# Getting columns' data types"
   ]
  },
  {
   "cell_type": "code",
   "execution_count": 13,
   "id": "996f7c68-0041-49d9-9741-15f974c098be",
   "metadata": {},
   "outputs": [
    {
     "name": "stdout",
     "output_type": "stream",
     "text": [
      "year              int64\n",
      "make             object\n",
      "model            object\n",
      "trim             object\n",
      "body             object\n",
      "transmission     object\n",
      "vin              object\n",
      "state            object\n",
      "condition       float64\n",
      "odometer        float64\n",
      "color            object\n",
      "interior         object\n",
      "seller           object\n",
      "mmr             float64\n",
      "sellingprice    float64\n",
      "saledate         object\n",
      "dtype: object\n"
     ]
    }
   ],
   "source": [
    "            print(data_content.dtypes)"
   ]
  },
  {
   "cell_type": "markdown",
   "id": "33926ba8-0ea8-4a71-90b1-15043f164a59",
   "metadata": {},
   "source": [
    "# Some information about the dataframe"
   ]
  },
  {
   "cell_type": "code",
   "execution_count": 15,
   "id": "eb08e46e-7767-4305-a6db-859fd830959a",
   "metadata": {},
   "outputs": [
    {
     "name": "stdout",
     "output_type": "stream",
     "text": [
      "<class 'pandas.core.frame.DataFrame'>\n",
      "RangeIndex: 558837 entries, 0 to 558836\n",
      "Data columns (total 16 columns):\n",
      " #   Column        Non-Null Count   Dtype  \n",
      "---  ------        --------------   -----  \n",
      " 0   year          558837 non-null  int64  \n",
      " 1   make          548536 non-null  object \n",
      " 2   model         548438 non-null  object \n",
      " 3   trim          548186 non-null  object \n",
      " 4   body          545642 non-null  object \n",
      " 5   transmission  493485 non-null  object \n",
      " 6   vin           558833 non-null  object \n",
      " 7   state         558837 non-null  object \n",
      " 8   condition     547017 non-null  float64\n",
      " 9   odometer      558743 non-null  float64\n",
      " 10  color         558088 non-null  object \n",
      " 11  interior      558088 non-null  object \n",
      " 12  seller        558837 non-null  object \n",
      " 13  mmr           558799 non-null  float64\n",
      " 14  sellingprice  558825 non-null  float64\n",
      " 15  saledate      558825 non-null  object \n",
      "dtypes: float64(4), int64(1), object(11)\n",
      "memory usage: 68.2+ MB\n",
      "None\n"
     ]
    }
   ],
   "source": [
    "            print(data_content.info())    "
   ]
  },
  {
   "cell_type": "markdown",
   "id": "4766f5d0-3b0d-43c0-95c3-748bf367c373",
   "metadata": {},
   "source": [
    "# describe() generates descriptive statistics"
   ]
  },
  {
   "cell_type": "code",
   "execution_count": 17,
   "id": "be1e7aa8-93f3-474a-9bfb-32bc00548d42",
   "metadata": {},
   "outputs": [
    {
     "name": "stdout",
     "output_type": "stream",
     "text": [
      "                year      condition       odometer            mmr  \\\n",
      "count  558837.000000  547017.000000  558743.000000  558799.000000   \n",
      "mean     2010.038927      30.672365   68320.017767   13769.377495   \n",
      "std         3.966864      13.402832   53398.542821    9679.967174   \n",
      "min      1982.000000       1.000000       1.000000      25.000000   \n",
      "25%      2007.000000      23.000000   28371.000000    7100.000000   \n",
      "50%      2012.000000      35.000000   52254.000000   12250.000000   \n",
      "75%      2013.000000      42.000000   99109.000000   18300.000000   \n",
      "max      2015.000000      49.000000  999999.000000  182000.000000   \n",
      "\n",
      "        sellingprice  \n",
      "count  558825.000000  \n",
      "mean    13611.358810  \n",
      "std      9749.501628  \n",
      "min         1.000000  \n",
      "25%      6900.000000  \n",
      "50%     12100.000000  \n",
      "75%     18200.000000  \n",
      "max    230000.000000  \n"
     ]
    }
   ],
   "source": [
    "            print(data_content.describe())"
   ]
  },
  {
   "cell_type": "markdown",
   "id": "d451d400-ce82-40b9-98ca-e9c2a6d59fbb",
   "metadata": {},
   "source": [
    "# 15% of rows contain at least one null value"
   ]
  },
  {
   "cell_type": "code",
   "execution_count": 19,
   "id": "dbef9279-cb7a-4148-ae88-e820c9db603f",
   "metadata": {},
   "outputs": [
    {
     "name": "stdout",
     "output_type": "stream",
     "text": [
      "Number of rows with at least one null value: 86512/558837\n",
      "15% of rows contain null values\n"
     ]
    }
   ],
   "source": [
    "            # Count the number of null rows\n",
    "            num_null_rows = data_content.isnull().any(axis=1).sum()\n",
    "            # the formula\n",
    "            percent_of_total_rows = int((num_null_rows/number_of_rows) * 100)\n",
    "            \n",
    "            print(f'Number of rows with at least one null value: {num_null_rows}/{number_of_rows}\\n{percent_of_total_rows}% of rows contain null values')"
   ]
  },
  {
   "cell_type": "markdown",
   "id": "1f01be49-095a-4805-b0a9-7bccf1e3443d",
   "metadata": {},
   "source": [
    "# There is no row with all null values"
   ]
  },
  {
   "cell_type": "code",
   "execution_count": 21,
   "id": "e85d07f0-9245-4c99-a1d7-50218a2b303e",
   "metadata": {},
   "outputs": [
    {
     "name": "stdout",
     "output_type": "stream",
     "text": [
      "Number of rows with all values as null: 0/558837\n",
      "0% of rows contain all null values\n"
     ]
    }
   ],
   "source": [
    "            # Count the number of null rows\n",
    "            num_all_null_rows = data_content.isnull().all(axis=1).sum()\n",
    "            # the formula\n",
    "            percent_of_total_rows = int((num_all_null_rows/number_of_rows) * 100)\n",
    "            \n",
    "            print(f'Number of rows with all values as null: {num_all_null_rows}/{number_of_rows}\\n{percent_of_total_rows}% of rows contain all null values')"
   ]
  },
  {
   "cell_type": "markdown",
   "id": "1bf8ac08-738c-453b-97cb-ff828ab577f9",
   "metadata": {},
   "source": [
    "# There is no column with all null values"
   ]
  },
  {
   "cell_type": "code",
   "execution_count": 23,
   "id": "d2dbcebb-ed3e-439d-8c8c-077ec16e82ab",
   "metadata": {},
   "outputs": [
    {
     "name": "stdout",
     "output_type": "stream",
     "text": [
      "Number of columns with all values as null: 0/16\n",
      "0% of rows contain all null values\n"
     ]
    }
   ],
   "source": [
    "            # Count the number of null columns\n",
    "            num_all_null_columns = data_content.isnull().all(axis=1).sum()\n",
    "            # the formula\n",
    "            percent_of_total_cols = int((num_all_null_columns/number_of_columns) * 100)\n",
    "            \n",
    "            print(f'Number of columns with all values as null: {num_all_null_columns}/{number_of_columns}\\n{percent_of_total_cols}% of rows contain all null values')"
   ]
  },
  {
   "cell_type": "markdown",
   "id": "f6f50713-6d00-4864-a609-001f095b9c40",
   "metadata": {},
   "source": [
    "# There are no duplicate rows"
   ]
  },
  {
   "cell_type": "code",
   "execution_count": 25,
   "id": "52b2f48b-a5d1-4996-b8ff-9b3024f776bf",
   "metadata": {},
   "outputs": [
    {
     "name": "stdout",
     "output_type": "stream",
     "text": [
      "Number of duplicate rows found: 0\n"
     ]
    }
   ],
   "source": [
    "            cleaner = data_cleaner.remove_duplicates()"
   ]
  },
  {
   "cell_type": "markdown",
   "id": "49564a82-cfd9-4b8b-9612-99869686df09",
   "metadata": {},
   "source": [
    "# Renaming the header titles"
   ]
  },
  {
   "cell_type": "code",
   "execution_count": 27,
   "id": "afcad33d-df84-4e4d-b5fc-836e656accd8",
   "metadata": {},
   "outputs": [
    {
     "name": "stdout",
     "output_type": "stream",
     "text": [
      "renamed headers successfully\n"
     ]
    }
   ],
   "source": [
    "            cleaner = data_cleaner.rename_headers()\n"
   ]
  },
  {
   "cell_type": "markdown",
   "id": "7b65d84b-ee15-4a52-9761-b2e1c5564312",
   "metadata": {},
   "source": [
    "# Capitalising the header titles"
   ]
  },
  {
   "cell_type": "code",
   "execution_count": 29,
   "id": "1fe393e5-3d73-40f0-82e3-36a59942fa02",
   "metadata": {},
   "outputs": [
    {
     "name": "stdout",
     "output_type": "stream",
     "text": [
      "capitalised headers sucessfully\n",
      "New header titles: Index(['Year', 'Brand', 'Model', 'Trim', 'Body', 'Transmission', 'Vin',\n",
      "       'State', 'Condition', 'Odometer', 'Color', 'Interior', 'Seller', 'Mmr',\n",
      "       'Sellingprice', 'Saledate'],\n",
      "      dtype='object')\n"
     ]
    }
   ],
   "source": [
    "            cleaner = data_cleaner.capitalise_headers()\n",
    "            print(f\"New header titles: {cleaner.columns}\")"
   ]
  },
  {
   "cell_type": "markdown",
   "id": "67b25119-7661-463b-8a1b-24114dea1836",
   "metadata": {},
   "source": [
    "# All values are of expected types"
   ]
  },
  {
   "cell_type": "code",
   "execution_count": 31,
   "id": "a0ec5a78-29d6-4909-b95e-e6beaf7bbbaa",
   "metadata": {},
   "outputs": [
    {
     "name": "stdout",
     "output_type": "stream",
     "text": [
      "Validation passed for column 'Year'. Expected int64, got int64\n",
      "Validation passed for column 'Brand'. Expected object, got object\n",
      "Validation passed for column 'Model'. Expected object, got object\n",
      "Validation passed for column 'Trim'. Expected object, got object\n",
      "Validation passed for column 'Transmission'. Expected object, got object\n",
      "Validation passed for column 'Vin'. Expected object, got object\n",
      "Validation passed for column 'State'. Expected object, got object\n",
      "Validation passed for column 'Condition'. Expected float64, got float64\n",
      "Validation passed for column 'Odometer'. Expected float64, got float64\n",
      "Validation passed for column 'Color'. Expected object, got object\n",
      "Validation passed for column 'Interior'. Expected object, got object\n",
      "Validation passed for column 'Seller'. Expected object, got object\n",
      "Validation passed for column 'Mmr'. Expected float64, got float64\n",
      "None\n"
     ]
    }
   ],
   "source": [
    "            cleaner = data_cleaner.validate_values()\n",
    "            print(cleaner)"
   ]
  },
  {
   "cell_type": "markdown",
   "id": "b09665fe-03c4-4662-89c4-5566fba235e5",
   "metadata": {},
   "source": [
    "# Saving the changes after cleaning the data into a new file"
   ]
  },
  {
   "cell_type": "code",
   "execution_count": 52,
   "id": "0f619b03-2321-4a48-a954-bc4db5c2cedf",
   "metadata": {},
   "outputs": [
    {
     "name": "stdout",
     "output_type": "stream",
     "text": [
      "Cleaned data saved successfully!\n"
     ]
    }
   ],
   "source": [
    "        cleaner = data_cleaner.save_changes()\n"
   ]
  },
  {
   "cell_type": "code",
   "execution_count": null,
   "id": "d4eb9a72-ba2b-46ba-bb02-a65bee0200a7",
   "metadata": {},
   "outputs": [],
   "source": []
  }
 ],
 "metadata": {
  "kernelspec": {
   "display_name": "Python [conda env:base] *",
   "language": "python",
   "name": "conda-base-py"
  },
  "language_info": {
   "codemirror_mode": {
    "name": "ipython",
    "version": 3
   },
   "file_extension": ".py",
   "mimetype": "text/x-python",
   "name": "python",
   "nbconvert_exporter": "python",
   "pygments_lexer": "ipython3",
   "version": "3.12.7"
  }
 },
 "nbformat": 4,
 "nbformat_minor": 5
}
